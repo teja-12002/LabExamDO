{
  "nbformat": 4,
  "nbformat_minor": 0,
  "metadata": {
    "colab": {
      "provenance": [],
      "authorship_tag": "ABX9TyMZRAgKZxBbmprcNNfN8GwE",
      "include_colab_link": true
    },
    "kernelspec": {
      "name": "python3",
      "display_name": "Python 3"
    },
    "language_info": {
      "name": "python"
    }
  },
  "cells": [
    {
      "cell_type": "markdown",
      "metadata": {
        "id": "view-in-github",
        "colab_type": "text"
      },
      "source": [
        "<a href=\"https://colab.research.google.com/github/teja-12002/LabExamDO/blob/main/Untitled0.ipynb\" target=\"_parent\"><img src=\"https://colab.research.google.com/assets/colab-badge.svg\" alt=\"Open In Colab\"/></a>"
      ]
    },
    {
      "cell_type": "code",
      "execution_count": 1,
      "metadata": {
        "id": "Q5GEJAMdT3ep"
      },
      "outputs": [],
      "source": [
        "import pandas as pd\n",
        "df = pd.read_excel(\"/content/Untitled spreadsheet.xlsx\")\n"
      ]
    },
    {
      "cell_type": "code",
      "source": [
        "print(df.head())\n"
      ],
      "metadata": {
        "colab": {
          "base_uri": "https://localhost:8080/"
        },
        "id": "uTED95xOT62G",
        "outputId": "76dc68de-85d4-4858-fc29-c7a683288a37"
      },
      "execution_count": 2,
      "outputs": [
        {
          "output_type": "stream",
          "name": "stdout",
          "text": [
            "    Employee_Name  Employee_ID   Job_Role  Phone_Number  \\\n",
            "0     Jane Miller         8797  Developer  3.801881e+09   \n",
            "1   Michael Brown         6540    Manager  7.904752e+09   \n",
            "2  Sarah Anderson         2353  Developer  9.463822e+09   \n",
            "3   Chris Johnson         6392   Engineer  8.727628e+09   \n",
            "4     Laura Smith         1653    Analyst  7.750284e+08   \n",
            "\n",
            "                   Email_ID  Total_Work_Hour_per_Month  Salary_per_Month  \n",
            "0  emily.taylor@example.com                     9999.0               NaN  \n",
            "1       john.brown@test.net                      160.0           11200.0  \n",
            "2   sarah.wilson@sample.org                     9999.0           -5000.0  \n",
            "3     john.jones@sample.org                      160.0            8000.0  \n",
            "4     sarah.taylor@test.net                     9999.0               NaN  \n"
          ]
        }
      ]
    },
    {
      "cell_type": "code",
      "source": [
        "unique_roles = df['Job_Role'].nunique()\n",
        "print(\"number of unique job roles : \" ,unique_roles)\n"
      ],
      "metadata": {
        "colab": {
          "base_uri": "https://localhost:8080/"
        },
        "id": "exBJg8dgUECv",
        "outputId": "b44ca758-4de5-4f5d-f0eb-fb336eabc547"
      },
      "execution_count": 3,
      "outputs": [
        {
          "output_type": "stream",
          "name": "stdout",
          "text": [
            "number of unique job roles :  5\n"
          ]
        }
      ]
    },
    {
      "cell_type": "code",
      "source": [
        "duplicate_entries = df.duplicated(subset=['Employee_ID']).sum()\n",
        "print(\"number of duplicate entries : \" , duplicate_entries)\n"
      ],
      "metadata": {
        "colab": {
          "base_uri": "https://localhost:8080/"
        },
        "id": "htJMkTIWUHEK",
        "outputId": "c381ed38-c30d-4c1a-b481-ada5f5e03857"
      },
      "execution_count": 4,
      "outputs": [
        {
          "output_type": "stream",
          "name": "stdout",
          "text": [
            "number of duplicate entries :  3\n"
          ]
        }
      ]
    },
    {
      "cell_type": "code",
      "source": [
        "df=df.drop_duplicates(subset=['Employee_ID'])\n"
      ],
      "metadata": {
        "id": "xwH_Z6K7UH5b"
      },
      "execution_count": 5,
      "outputs": []
    },
    {
      "cell_type": "code",
      "source": [
        "negative_salaries = df[df['Salary_per_Month'] <0]\n",
        "print(\"negative salaries entries :\\n\",negative_salaries)\n"
      ],
      "metadata": {
        "colab": {
          "base_uri": "https://localhost:8080/"
        },
        "id": "vkTZBRFbUKCQ",
        "outputId": "3cd32147-46cc-4465-83b5-3c723dc7dc5f"
      },
      "execution_count": 6,
      "outputs": [
        {
          "output_type": "stream",
          "name": "stdout",
          "text": [
            "negative salaries entries :\n",
            "       Employee_Name  Employee_ID        Job_Role  Phone_Number  \\\n",
            "2    Sarah Anderson         2353       Developer  9.463822e+09   \n",
            "8               NaN         5890       Developer  3.155312e+09   \n",
            "12      Laura Davis         6915        Engineer  9.849898e+09   \n",
            "14   Michael Miller         1634  Data Scientist  2.416309e+09   \n",
            "17     John Johnson         8521         Analyst  8.917196e+09   \n",
            "20      Laura Davis         8202             NaN  5.790057e+09   \n",
            "32              NaN         1603        Engineer  4.795532e+09   \n",
            "38     Emily Wilson         9713         Manager  7.156704e+09   \n",
            "41    Jane Williams         7226             NaN  5.351126e+09   \n",
            "48      Chris Jones         9320  Data Scientist  2.767192e+09   \n",
            "60       Jane Jones         6742  Data Scientist  8.355664e+09   \n",
            "62      David Brown         5344  Data Scientist  2.606042e+09   \n",
            "64   Jessica Wilson         6131       Developer  1.805531e+09   \n",
            "70  Michael Johnson         5045         Analyst  8.703092e+09   \n",
            "71    Jane Anderson         8889         Manager  7.736842e+09   \n",
            "81    Jessica Brown         8979        Engineer  3.949648e+09   \n",
            "87    Sarah Johnson         3476             NaN           NaN   \n",
            "89       Jane Jones         7778  Data Scientist           NaN   \n",
            "93    Laura Johnson         2658        Engineer  2.847548e+09   \n",
            "\n",
            "                      Email_ID  Total_Work_Hour_per_Month  Salary_per_Month  \n",
            "2      sarah.wilson@sample.org                     9999.0           -5000.0  \n",
            "8       jane.williams@test.net                     9999.0           -5000.0  \n",
            "12     sarah.brown@example.com                        NaN           -5000.0  \n",
            "14      emily.johnson@test.net                     9999.0           -5000.0  \n",
            "17  jessica.miller@example.com                        NaN           -5000.0  \n",
            "20                         NaN                     9999.0           -5000.0  \n",
            "32        emily.jones@test.net                     9999.0           -5000.0  \n",
            "38      jessica.smith@test.net                      -10.0           -5000.0  \n",
            "41      david.johnson@test.net                     9999.0           -5000.0  \n",
            "48     laura.taylor@sample.org                      -10.0           -5000.0  \n",
            "60     james.wilson@sample.org                      -10.0           -5000.0  \n",
            "62                         NaN                     9999.0           -5000.0  \n",
            "64         john.davis@test.net                        NaN           -5000.0  \n",
            "70  michael.miller@example.com                     9999.0           -5000.0  \n",
            "71   michael.smith@example.com                     9999.0           -5000.0  \n",
            "81   sarah.johnson@example.com                      -10.0           -5000.0  \n",
            "87   jessica.wilson@sample.org                     9999.0           -5000.0  \n",
            "89     sarah.brown@example.com                     9999.0           -5000.0  \n",
            "93    james.wilson@example.com                      -10.0           -5000.0  \n"
          ]
        }
      ]
    },
    {
      "cell_type": "code",
      "source": [
        "df['Phone_Number'] = df['Phone_Number'].astype(str).str.replace(r'\\D', '', regex=True)\n",
        "df['Phone_Number'] = df['Phone_Number'].apply(lambda x: x[-10:])\n",
        "print(df)"
      ],
      "metadata": {
        "colab": {
          "base_uri": "https://localhost:8080/"
        },
        "id": "ukpZb0vaUMlQ",
        "outputId": "415b04b3-6333-4725-85fb-a6dbf528021b"
      },
      "execution_count": 8,
      "outputs": [
        {
          "output_type": "stream",
          "name": "stdout",
          "text": [
            "     Employee_Name  Employee_ID   Job_Role Phone_Number  \\\n",
            "0      Jane Miller         8797  Developer   8018808700   \n",
            "1    Michael Brown         6540    Manager   9047524280   \n",
            "2   Sarah Anderson         2353  Developer   4638223300   \n",
            "3    Chris Johnson         6392   Engineer   7276281480   \n",
            "4      Laura Smith         1653    Analyst   7750284090   \n",
            "..             ...          ...        ...          ...   \n",
            "94    Laura Taylor         2791  Developer                \n",
            "95     Emily Smith         5111        NaN   4638835620   \n",
            "96    Sarah Wilson         7388   Engineer   4550090980   \n",
            "97             NaN         3773    Manager   4515525620   \n",
            "99   Michael Jones         3490    Analyst   4256222840   \n",
            "\n",
            "                    Email_ID  Total_Work_Hour_per_Month  Salary_per_Month  \n",
            "0   emily.taylor@example.com                     9999.0               NaN  \n",
            "1        john.brown@test.net                      160.0           11200.0  \n",
            "2    sarah.wilson@sample.org                     9999.0           -5000.0  \n",
            "3      john.jones@sample.org                      160.0            8000.0  \n",
            "4      sarah.taylor@test.net                     9999.0               NaN  \n",
            "..                       ...                        ...               ...  \n",
            "94    emily.brown@sample.org                      180.0           10800.0  \n",
            "95      james.davis@test.net                      -10.0          100000.0  \n",
            "96  john.johnson@example.com                        NaN          100000.0  \n",
            "97   david.miller@sample.org                        NaN          100000.0  \n",
            "99    john.miller@sample.org                        NaN               NaN  \n",
            "\n",
            "[97 rows x 7 columns]\n"
          ]
        }
      ]
    },
    {
      "cell_type": "code",
      "source": [
        "df['Hourly_Wage'] = df['Salary_per_Month'] /df['Total_Work_Hour_per_Month']\n",
        "print(df[['Salary_per_Month','Total_Work_Hour_per_Month','Hourly_Wage']])\n"
      ],
      "metadata": {
        "colab": {
          "base_uri": "https://localhost:8080/"
        },
        "id": "shiYSeJxUQjF",
        "outputId": "dc838b89-8ecd-4171-d654-e9ea3d6c7514"
      },
      "execution_count": 9,
      "outputs": [
        {
          "output_type": "stream",
          "name": "stdout",
          "text": [
            "    Salary_per_Month  Total_Work_Hour_per_Month  Hourly_Wage\n",
            "0                NaN                     9999.0          NaN\n",
            "1            11200.0                      160.0     70.00000\n",
            "2            -5000.0                     9999.0     -0.50005\n",
            "3             8000.0                      160.0     50.00000\n",
            "4                NaN                     9999.0          NaN\n",
            "..               ...                        ...          ...\n",
            "94           10800.0                      180.0     60.00000\n",
            "95          100000.0                      -10.0 -10000.00000\n",
            "96          100000.0                        NaN          NaN\n",
            "97          100000.0                        NaN          NaN\n",
            "99               NaN                        NaN          NaN\n",
            "\n",
            "[97 rows x 3 columns]\n"
          ]
        }
      ]
    }
  ]
}